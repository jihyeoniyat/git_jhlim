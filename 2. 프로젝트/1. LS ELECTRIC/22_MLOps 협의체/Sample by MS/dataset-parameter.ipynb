{
  "cells": [
    {
      "cell_type": "code",
      "source": [
        "import azureml.core\r\n",
        "from azureml.core import Workspace, Experiment, Dataset, RunConfiguration\r\n",
        "from azureml.core.compute import ComputeTarget, AmlCompute\r\n",
        "from azureml.core.environment import CondaDependencies\r\n",
        "from azureml.data.dataset_consumption_config import DatasetConsumptionConfig\r\n",
        "from azureml.widgets import RunDetails\r\n",
        "\r\n",
        "from azureml.pipeline.core import PipelineParameter\r\n",
        "from azureml.pipeline.core import Pipeline, PipelineRun\r\n",
        "from azureml.pipeline.steps import PythonScriptStep\r\n",
        "\r\n",
        "# Check core SDK version number\r\n",
        "print(\"SDK version:\", azureml.core.VERSION)"
      ],
      "outputs": [],
      "execution_count": null,
      "metadata": {
        "gather": {
          "logged": 1667290047800
        }
      }
    },
    {
      "cell_type": "code",
      "source": [
        "ws = Workspace.from_config()\r\n",
        "print(ws.name, ws.resource_group, ws.location, ws.subscription_id, sep=\"\\n\")"
      ],
      "outputs": [],
      "execution_count": null,
      "metadata": {
        "jupyter": {
          "source_hidden": false,
          "outputs_hidden": false
        },
        "nteract": {
          "transient": {
            "deleting": false
          }
        },
        "gather": {
          "logged": 1667290051809
        }
      }
    },
    {
      "cell_type": "code",
      "source": [
        "datastore = ws.get_default_datastore()\r\n",
        "\r\n",
        "datastore.upload(src_dir='datafolder', target_path='data')  "
      ],
      "outputs": [],
      "execution_count": null,
      "metadata": {
        "jupyter": {
          "source_hidden": false,
          "outputs_hidden": false
        },
        "nteract": {
          "transient": {
            "deleting": false
          }
        },
        "gather": {
          "logged": 1667290056499
        }
      }
    },
    {
      "cell_type": "code",
      "source": [
        "dataset = Dataset.Tabular.from_delimited_files(datastore.path('data/busan_test_scaled_dataset.csv'))\r\n",
        "\r\n",
        "weather_ds = dataset.register(workspace=ws,\r\n",
        "                                 name='tab_pvprediction_train',\r\n",
        "                                 description='busan test data')"
      ],
      "outputs": [],
      "execution_count": null,
      "metadata": {
        "jupyter": {
          "source_hidden": false,
          "outputs_hidden": false
        },
        "nteract": {
          "transient": {
            "deleting": false
          }
        },
        "gather": {
          "logged": 1667290065514
        }
      }
    },
    {
      "cell_type": "code",
      "source": [
        "# Choose a name for the run history container in the workspace.\r\n",
        "experiment_name = \"busan-dataset\"\r\n",
        "source_directory = \".\"\r\n",
        "\r\n",
        "experiment = Experiment(ws, experiment_name)\r\n",
        "experiment"
      ],
      "outputs": [],
      "execution_count": null,
      "metadata": {
        "jupyter": {
          "source_hidden": false,
          "outputs_hidden": false
        },
        "nteract": {
          "transient": {
            "deleting": false
          }
        },
        "gather": {
          "logged": 1667290084597
        }
      }
    },
    {
      "cell_type": "code",
      "source": [
        "# Choose a name for your cluster.\r\n",
        "amlcompute_cluster_name = \"cpu-cluster\"\r\n",
        "\r\n",
        "found = False\r\n",
        "# Check if this compute target already exists in the workspace.\r\n",
        "cts = ws.compute_targets\r\n",
        "if amlcompute_cluster_name in cts and cts[amlcompute_cluster_name].type == \"AmlCompute\":\r\n",
        "    found = True\r\n",
        "    print(\"Found existing compute target.\")\r\n",
        "    compute_target = cts[amlcompute_cluster_name]\r\n",
        "\r\n",
        "if not found:\r\n",
        "    print(\"Creating a new compute target...\")\r\n",
        "    provisioning_config = AmlCompute.provisioning_configuration(\r\n",
        "        vm_size=\"STANDARD_D2_V2\",  # for GPU, use \"STANDARD_NC6\"\r\n",
        "        # vm_priority = 'lowpriority', # optional\r\n",
        "        max_nodes=4,\r\n",
        "    )\r\n",
        "\r\n",
        "    # Create the cluster.\r\n",
        "    compute_target = ComputeTarget.create(\r\n",
        "        ws, amlcompute_cluster_name, provisioning_config\r\n",
        "    )\r\n",
        "\r\n",
        "    # Can poll for a minimum number of nodes and for a specific timeout.\r\n",
        "    # If no min_node_count is provided, it will use the scale settings for the cluster.\r\n",
        "    compute_target.wait_for_completion(show_output=True, timeout_in_minutes=10)\r\n",
        "\r\n",
        "    # For a more detailed view of current AmlCompute status, use get_status()."
      ],
      "outputs": [],
      "execution_count": null,
      "metadata": {
        "jupyter": {
          "source_hidden": false,
          "outputs_hidden": false
        },
        "nteract": {
          "transient": {
            "deleting": false
          }
        },
        "gather": {
          "logged": 1667290088519
        }
      }
    },
    {
      "cell_type": "code",
      "source": [
        "conda_dep = CondaDependencies()\r\n",
        "conda_dep.add_pip_package(\"pandas\")\r\n",
        "\r\n",
        "run_config = RunConfiguration(conda_dependencies=conda_dep)"
      ],
      "outputs": [],
      "execution_count": null,
      "metadata": {
        "jupyter": {
          "source_hidden": false,
          "outputs_hidden": false
        },
        "nteract": {
          "transient": {
            "deleting": false
          }
        },
        "gather": {
          "logged": 1667290090947
        }
      }
    },
    {
      "cell_type": "code",
      "source": [
        "tabular_dataset = Dataset.get_by_name(ws, 'tab_pvprediction_train')\r\n",
        "\r\n",
        "tabular_pipeline_param = PipelineParameter(\r\n",
        "    name=\"tabular_ds_param\", default_value=tabular_dataset\r\n",
        ")\r\n",
        "tabular_ds_consumption = DatasetConsumptionConfig(\r\n",
        "    \"tabular_dataset\", tabular_pipeline_param\r\n",
        ")"
      ],
      "outputs": [],
      "execution_count": null,
      "metadata": {
        "jupyter": {
          "source_hidden": false,
          "outputs_hidden": false
        },
        "nteract": {
          "transient": {
            "deleting": false
          }
        },
        "gather": {
          "logged": 1667290093860
        }
      }
    },
    {
      "cell_type": "code",
      "source": [
        "%%writefile train.py\r\n",
        "from azureml.core import Run\r\n",
        "\r\n",
        "input_tabular_ds = Run.get_context().input_datasets[\"tabular_dataset\"]\r\n",
        "tabular_df = input_tabular_ds.to_pandas_dataframe()\r\n",
        "print(tabular_df)\r\n"
      ],
      "outputs": [],
      "execution_count": null,
      "metadata": {
        "jupyter": {
          "source_hidden": false,
          "outputs_hidden": false
        },
        "nteract": {
          "transient": {
            "deleting": false
          }
        }
      }
    },
    {
      "cell_type": "code",
      "source": [
        "train_step = PythonScriptStep(\r\n",
        "    name=\"train_step\",\r\n",
        "    script_name=\"train.py\",\r\n",
        "    arguments=[\"--param1\", tabular_ds_consumption],\r\n",
        "    inputs=[tabular_ds_consumption],\r\n",
        "    compute_target=compute_target,\r\n",
        "    source_directory=source_directory,\r\n",
        "    runconfig=run_config,\r\n",
        ")\r\n",
        "\r\n",
        "print(\"train_step created\")\r\n",
        "\r\n",
        "pipeline = Pipeline(workspace=ws, steps=[train_step])\r\n",
        "print(\"pipeline with the train_step created\")"
      ],
      "outputs": [],
      "execution_count": null,
      "metadata": {
        "jupyter": {
          "source_hidden": false,
          "outputs_hidden": false
        },
        "nteract": {
          "transient": {
            "deleting": false
          }
        },
        "gather": {
          "logged": 1667290127518
        }
      }
    },
    {
      "cell_type": "code",
      "source": [
        "# Pipeline will run with default file_ds and tabular_ds\r\n",
        "pipeline_run = experiment.submit(pipeline)\r\n",
        "print(\"Pipeline is submitted for execution\")"
      ],
      "outputs": [],
      "execution_count": null,
      "metadata": {
        "jupyter": {
          "source_hidden": false,
          "outputs_hidden": false
        },
        "nteract": {
          "transient": {
            "deleting": false
          }
        },
        "gather": {
          "logged": 1667290136538
        }
      }
    },
    {
      "cell_type": "code",
      "source": [
        "RunDetails(pipeline_run).show()"
      ],
      "outputs": [],
      "execution_count": null,
      "metadata": {
        "jupyter": {
          "source_hidden": false,
          "outputs_hidden": false
        },
        "nteract": {
          "transient": {
            "deleting": false
          }
        },
        "gather": {
          "logged": 1667290146601
        }
      }
    },
    {
      "cell_type": "code",
      "source": [
        "pipeline_run.wait_for_completion()"
      ],
      "outputs": [],
      "execution_count": null,
      "metadata": {
        "jupyter": {
          "source_hidden": false,
          "outputs_hidden": false
        },
        "nteract": {
          "transient": {
            "deleting": false
          }
        },
        "gather": {
          "logged": 1667290274679
        }
      }
    }
  ],
  "metadata": {
    "kernelspec": {
      "name": "python38-azureml",
      "language": "python",
      "display_name": "Python 3.8 - AzureML"
    },
    "language_info": {
      "name": "python",
      "version": "3.8.5",
      "mimetype": "text/x-python",
      "codemirror_mode": {
        "name": "ipython",
        "version": 3
      },
      "pygments_lexer": "ipython3",
      "nbconvert_exporter": "python",
      "file_extension": ".py"
    },
    "kernel_info": {
      "name": "python38-azureml"
    },
    "microsoft": {
      "host": {
        "AzureML": {
          "notebookHasBeenCompleted": true
        }
      }
    },
    "nteract": {
      "version": "nteract-front-end@1.0.0"
    }
  },
  "nbformat": 4,
  "nbformat_minor": 2
}